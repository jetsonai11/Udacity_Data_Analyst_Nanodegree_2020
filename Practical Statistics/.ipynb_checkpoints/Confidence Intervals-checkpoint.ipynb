{
 "cells": [
  {
   "cell_type": "markdown",
   "metadata": {},
   "source": [
    "# Confidence Intervals\n",
    "## From Sampling Distributions to CIs.\n",
    "> We can use sampling distributions and bootstrapping to understand the values of a statistic that are possible.\n",
    "In the real world, we usually don't know the value of a parameter (We don't have all the info we'd like to, to determine the values of the parameter). We can build CIs for different parameters, and to infer the range of a desired parameter.\n",
    "\n",
    "For instance, here I am using bootstrapping to determine the CIs for the difference in heights of coffee drinkers and non-drinkers."
   ]
  },
  {
   "cell_type": "code",
   "execution_count": 7,
   "metadata": {},
   "outputs": [],
   "source": [
    "import pandas as pd\n",
    "import matplotlib.pyplot as plt\n",
    "import seaborn as sns\n",
    "import numpy as np\n",
    "sns.set()\n",
    "\n",
    "%matplotlib inline\n",
    "\n",
    "df = pd.read_csv('data/coffee_dataset.csv')\n",
    "sample_data = df.sample(200)"
   ]
  },
  {
   "cell_type": "code",
   "execution_count": 8,
   "metadata": {},
   "outputs": [
    {
     "data": {
      "text/plain": [
       "(0.5178840323124586, 2.4609562477726725)"
      ]
     },
     "execution_count": 8,
     "metadata": {},
     "output_type": "execute_result"
    }
   ],
   "source": [
    "diff = []\n",
    "for _ in range(10000):\n",
    "    bootsample = sample_data.sample(200, replace=True)\n",
    "    mean_t = bootsample.query('drinks_coffee == True')['height'].mean()\n",
    "    mean_f = bootsample.query('drinks_coffee == False')['height'].mean()\n",
    "    diff.append(mean_t - mean_f)\n",
    "    \n",
    "np.percentile(diff, 2.5), np.percentile(diff, 97.5)"
   ]
  },
  {
   "cell_type": "markdown",
   "metadata": {},
   "source": [
    "> This has many real world applications, such as testing for patient outcomes for two groups of patients (drug group vs. placebo) and A/B testing, a method of comparing two versions of a webpage or app against each other to determine which one performs better."
   ]
  },
  {
   "cell_type": "markdown",
   "metadata": {},
   "source": [
    "## Statistical vs. Practical Significance\n",
    "Comparing the mean of 2 groups rather than just the point values are important.\n",
    "\n",
    "> - **Statistical significance:** evidence from hypothesis tests and CIs that H1 is true.\n",
    "> - **Practical Significance:** making decisions based on the real-world application and practicality, rather than purely relying on numbers."
   ]
  },
  {
   "cell_type": "markdown",
   "metadata": {},
   "source": [
    "## Other Language Associated with Confidence Intervals\n",
    "\n",
    "Assuming you control all other items of your analysis:\n",
    "\n",
    "> Increasing your sample size will decrease the width of your confidence interval.\n",
    "Increasing your confidence level (say 95% to 99%) will increase the width of your confidence interval.\n",
    "\n",
    "You saw that you can compute:\n",
    "\n",
    "> The confidence interval width as the difference between your upper and lower bounds of your confidence interval.\n",
    "The margin of error is half the confidence interval width, and the value that you add and subtract from your sample estimate to achieve your confidence interval final results."
   ]
  },
  {
   "cell_type": "markdown",
   "metadata": {},
   "source": [
    "## Correct Interpretations of Confidence Intervals\n",
    "> CI aimed at the parameter, or a single numeric value in our population (i.e. std, mean, difference in mean, etc.) It **does not** allow us to say anything specific about an individual in a population. Instead, it takes an **aggregate** approach at looking at our data."
   ]
  },
  {
   "cell_type": "code",
   "execution_count": null,
   "metadata": {},
   "outputs": [],
   "source": []
  }
 ],
 "metadata": {
  "kernelspec": {
   "display_name": "Python 3",
   "language": "python",
   "name": "python3"
  },
  "language_info": {
   "codemirror_mode": {
    "name": "ipython",
    "version": 3
   },
   "file_extension": ".py",
   "mimetype": "text/x-python",
   "name": "python",
   "nbconvert_exporter": "python",
   "pygments_lexer": "ipython3",
   "version": "3.7.4"
  }
 },
 "nbformat": 4,
 "nbformat_minor": 4
}
