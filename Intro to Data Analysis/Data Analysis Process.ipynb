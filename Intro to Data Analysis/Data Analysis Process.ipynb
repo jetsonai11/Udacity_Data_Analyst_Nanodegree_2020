{
 "cells": [
  {
   "cell_type": "markdown",
   "metadata": {},
   "source": [
    "# Reading CSV Files"
   ]
  },
  {
   "cell_type": "code",
   "execution_count": null,
   "metadata": {},
   "outputs": [],
   "source": [
    "# specify headers\n",
    "labels = ['id', 'name', 'attendance', 'hw', 'test1', 'project1', 'test2', 'project2', 'final']\n",
    "df = pd.read_csv('student_scores.csv', names=labels)\n",
    "df.head()"
   ]
  },
  {
   "cell_type": "code",
   "execution_count": null,
   "metadata": {},
   "outputs": [],
   "source": [
    "# specify column names\n",
    "df = pd.read_csv('student_scores.csv', index_col=['Name', 'ID'])\n",
    "df.head()"
   ]
  },
  {
   "cell_type": "markdown",
   "metadata": {},
   "source": [
    "# Assessing and Building Intuition\n",
    "- obtain the shape of the dataset to see how many features and samples there are\n",
    "- df.dtypes\n",
    "    - maybe some features should be of different data type\n",
    "    - type(df['feature name][0]) to verify\n",
    "- df.info(), df.nunique to determine missing fields"
   ]
  },
  {
   "cell_type": "code",
   "execution_count": null,
   "metadata": {},
   "outputs": [],
   "source": [
    "# Quiz -- selecting multiple ranges in pandas df\n",
    "\n",
    "# import\n",
    "import numpy as np\n",
    "\n",
    "# create the standard errors dataframe\n",
    "for index, feature in enumerate(df.columns):\n",
    "    print(index, feature)\n",
    "df_SE = df.iloc[:, np.r_[0:2, 12:22]]\n",
    "\n",
    "# view the first few rows to confirm this was successful\n",
    "df_SE.head(5)"
   ]
  },
  {
   "cell_type": "markdown",
   "metadata": {},
   "source": [
    "# Data Cleaning\n",
    "- 3 major issues\n",
    "    - duplicates (can be more complicated if the entire rows aren't identical)\n",
    "        - sum( df.duplicated( ) ) to see how many columns have duplicated values\n",
    "        - df.drop_duplicates (inplace = True)\n",
    "    - incorrect datatypes\n",
    "        - e.g. datetime as string\n",
    "        - pd.to_datetime ( )\n",
    "    - missing data\n",
    "        - impute with mean, df['column name'].fillna(mean)"
   ]
  },
  {
   "cell_type": "code",
   "execution_count": null,
   "metadata": {},
   "outputs": [],
   "source": []
  }
 ],
 "metadata": {
  "kernelspec": {
   "display_name": "Python 3",
   "language": "python",
   "name": "python3"
  },
  "language_info": {
   "codemirror_mode": {
    "name": "ipython",
    "version": 3
   },
   "file_extension": ".py",
   "mimetype": "text/x-python",
   "name": "python",
   "nbconvert_exporter": "python",
   "pygments_lexer": "ipython3",
   "version": "3.7.4"
  }
 },
 "nbformat": 4,
 "nbformat_minor": 4
}
