{
 "cells": [
  {
   "cell_type": "markdown",
   "metadata": {},
   "source": [
    "# Lesson Overview\n",
    "> **Plot Types**\n",
    "- Histograms for quantitative data\n",
    "- Bar charts for qualitative data\n",
    "\n",
    "> **Techniques**\n",
    "- Absolute and relative frequencies\n",
    "- Axis limits to extract exciting information\n",
    "- Scales of measurement and transformations"
   ]
  },
  {
   "cell_type": "markdown",
   "metadata": {},
   "source": [
    "# Bar Chart\n",
    "For ordinal-type data, we would want to sort the bars in order of the variables, not by frequency."
   ]
  },
  {
   "cell_type": "code",
   "execution_count": null,
   "metadata": {},
   "outputs": [],
   "source": [
    "level_order = ['Alpha', 'Beta', 'Gamma', 'Delta']\n",
    "ordered_cat = pd.api.types.CategoricalDtype(ordered = True, categories = level_order)\n",
    "df['cat_var'] = df['cat_var'].astype(ordered_cat)\n",
    "\n",
    "# # use this method if you have pandas v0.20.3 or earlier\n",
    "# df['cat_var'] = df['cat_var'].astype('category', ordered = True,\n",
    "#                                      categories = level_order)\n",
    "\n",
    "base_color = sns.color_palette()[0]\n",
    "sns.countplot(data = df, x = 'cat_var', color = base_color)"
   ]
  },
  {
   "cell_type": "markdown",
   "metadata": {},
   "source": [
    "# Pie Chart and Donut Chart\n",
    "Rule of thumb: for categories not exceeding 3 or 4."
   ]
  },
  {
   "cell_type": "code",
   "execution_count": null,
   "metadata": {},
   "outputs": [],
   "source": [
    "# code for the pie chart seen above\n",
    "sorted_counts = df['cat_var'].value_counts()\n",
    "plt.pie(sorted_counts, labels = sorted_counts.index, startangle = 90,\n",
    "        counterclock = False);\n",
    "plt.axis('square')\n",
    "\n",
    "\n",
    "# code for donut plot \n",
    "sorted_counts = df['cat_var'].value_counts()\n",
    "plt.pie(sorted_counts, labels = sorted_counts.index, startangle = 90,\n",
    "        counterclock = False, wedgeprops = {'width' : 0.4});\n",
    "plt.axis('square')"
   ]
  },
  {
   "cell_type": "markdown",
   "metadata": {},
   "source": [
    "# Histogram and Outliers\n",
    "Zoom in parts where exciting statistics are."
   ]
  },
  {
   "cell_type": "code",
   "execution_count": null,
   "metadata": {},
   "outputs": [],
   "source": [
    "plt.figure(figsize = [10, 5])\n",
    "\n",
    "# histogram on left: full data\n",
    "plt.subplot(1, 2, 1)\n",
    "bin_edges = np.arange(0, df['skew_var'].max()+2.5, 2.5)\n",
    "plt.hist(data = df, x = 'skew_var', bins = bin_edges)\n",
    "\n",
    "# histogram on right: focus in on bulk of data < 35\n",
    "plt.subplot(1, 2, 2)\n",
    "bin_edges = np.arange(0, 35+1, 1)\n",
    "plt.hist(data = df, x = 'skew_var', bins = bin_edges)\n",
    "plt.xlim(0, 35) # could also be called as plt.xlim((0, 35))"
   ]
  },
  {
   "cell_type": "markdown",
   "metadata": {},
   "source": [
    "# Scales and Transformations\n",
    "![](images/scales.png)\n",
    "\n",
    "> Using logarithmic transform when values are too large and spaced too far apart."
   ]
  },
  {
   "cell_type": "code",
   "execution_count": null,
   "metadata": {},
   "outputs": [],
   "source": [
    "plt.figure(figsize = [10, 5])\n",
    "\n",
    "# left histogram: data plotted in natural units\n",
    "plt.subplot(1, 2, 1)\n",
    "bin_edges = np.arange(0, data.max()+100, 100)\n",
    "plt.hist(data, bins = bin_edges)\n",
    "plt.xlabel('values')\n",
    "\n",
    "# right histogram: data plotted after direct log transformation\n",
    "plt.subplot(1, 2, 2)\n",
    "log_data = np.log10(data) # direct data transform\n",
    "log_bin_edges = np.arange(0.8, log_data.max()+0.1, 0.1)\n",
    "plt.hist(log_data, bins = log_bin_edges)\n",
    "plt.xlabel('log(values)')"
   ]
  },
  {
   "cell_type": "code",
   "execution_count": null,
   "metadata": {},
   "outputs": [],
   "source": [
    "# perfrom log base 10 transform\n",
    "bin_edges = 10 ** np.arange(0.8, np.log10(data.max())+0.1, 0.1) # determine the range of values using describe\n",
    "plt.hist(data, bins = bin_edges)\n",
    "plt.xscale('log')\n",
    "tick_locs = [10, 30, 100, 300, 1000, 3000]\n",
    "plt.xticks(tick_locs, tick_locs)\n",
    "\n",
    "# however, if value is negative, we can't take the log of it. We can use the inverse transform\n",
    "def sqrt_trans(x, inverse = False):\n",
    "    \"\"\" transformation helper function \"\"\"\n",
    "    if not inverse:\n",
    "        return np.sqrt(x)\n",
    "    else:\n",
    "        return x ** 2\n",
    "\n",
    "bin_edges = np.arange(0, sqrt_trans(data.max())+1, 1)\n",
    "plt.hist(data.apply(sqrt_trans), bins = bin_edges)\n",
    "tick_locs = np.arange(0, sqrt_trans(data.max())+10, 10)\n",
    "plt.xticks(tick_locs, sqrt_trans(tick_locs, inverse = True).astype(int))"
   ]
  }
 ],
 "metadata": {
  "kernelspec": {
   "display_name": "Python 3",
   "language": "python",
   "name": "python3"
  },
  "language_info": {
   "codemirror_mode": {
    "name": "ipython",
    "version": 3
   },
   "file_extension": ".py",
   "mimetype": "text/x-python",
   "name": "python",
   "nbconvert_exporter": "python",
   "pygments_lexer": "ipython3",
   "version": "3.7.4"
  }
 },
 "nbformat": 4,
 "nbformat_minor": 4
}
