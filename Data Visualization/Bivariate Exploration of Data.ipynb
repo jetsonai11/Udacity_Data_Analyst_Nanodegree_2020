{
 "cells": [
  {
   "cell_type": "markdown",
   "metadata": {},
   "source": [
    "# Lesson Overview\n",
    "> - Scattered plots for quant vs. quant\n",
    "> - Clustered bar charts for quali vs. quali\n",
    "> - Heatmaps as 2D Histogram and bar charts\n",
    "> - Violinplots and boxplots for quant vs. quali\n",
    "> - Faceting\n",
    "> - Bar charts with mean instead of count\n",
    "> - Lineplots to reveal changes in values across time"
   ]
  },
  {
   "cell_type": "markdown",
   "metadata": {},
   "source": [
    "## Scatterplots for quantitative variable vs. quantitative variable\n",
    "> **Pearson Coefficient (R): statistic quantifying the strength of linear correlation between 2 numeric variables.**\n",
    "- R doesn't necessarilly tell you the steepness of a line that models the relationship\n",
    "\n",
    "![](images/R.png)\n",
    "\n",
    "- **Only** capture **linear relationship.**\n",
    "- Don't just look at the numbers alone, determine whether or not they are meaningful to your data!"
   ]
  },
  {
   "cell_type": "code",
   "execution_count": null,
   "metadata": {},
   "outputs": [],
   "source": [
    "# create scatter plots on log-transformed data(can make your data more clear and show a linear pattern)\n",
    "def log_trans(x, inverse = False):\n",
    "    if not inverse:\n",
    "        return np.log10(x)\n",
    "    else:\n",
    "        return np.power(10, x)\n",
    "\n",
    "sb.regplot(df['num_var1'], df['num_var2'].apply(log_trans))\n",
    "tick_locs = [10, 20, 50, 100, 200, 500]\n",
    "plt.yticks(log_trans(tick_locs), tick_locs)"
   ]
  },
  {
   "cell_type": "markdown",
   "metadata": {},
   "source": [
    "## Overplotting, Transparency, and Jitter\n",
    "\n",
    "![](images/1.png)\n",
    "\n",
    "> - Overplotting can be resolved with transparency and sampling.\n",
    "> - Discrete variable plotting can be resolved with jitter, which adds a small noice to a location so that datapoints with the same value are spread out a little bit.\n"
   ]
  },
  {
   "cell_type": "code",
   "execution_count": null,
   "metadata": {},
   "outputs": [],
   "source": [
    "sns.regplot(data = df, x = 'disc_var1', y = 'disc_var2', fit_reg = False,\n",
    "           x_jitter = 0.2, y_jitter = 0.2, scatter_kws = {'alpha' : 1/3})"
   ]
  },
  {
   "cell_type": "markdown",
   "metadata": {},
   "source": [
    "## Heat Maps for quant vs. quant\n",
    "> - Basically a 2D histogram\n",
    "> - Good for discrete variable vs. discrete variable\n",
    "> - Good alternative to transparency for a large of data\n",
    "> - Bins size is also important"
   ]
  },
  {
   "cell_type": "code",
   "execution_count": null,
   "metadata": {},
   "outputs": [],
   "source": [
    "plt.figure(figsize = [12, 5])\n",
    "\n",
    "# left plot: scatterplot of discrete data with jitter and transparency\n",
    "plt.subplot(1, 2, 1)\n",
    "sb.regplot(data = df, x = 'disc_var1', y = 'disc_var2', fit_reg = False,\n",
    "           x_jitter = 0.2, y_jitter = 0.2, scatter_kws = {'alpha' : 1/3})\n",
    "\n",
    "# right plot: heat map with bin edges between values\n",
    "plt.subplot(1, 2, 2)\n",
    "bins_x = np.arange(0.5, 10.5+1, 1)\n",
    "bins_y = np.arange(-0.5, 10.5+1, 1)\n",
    "plt.hist2d(data = df, x = 'disc_var1', y = 'disc_var2',\n",
    "           bins = [bins_x, bins_y], cmap = 'viridis_r', \n",
    "           cmin = 0.5) # setting cmin to not color grids with no values\n",
    "plt.colorbar();"
   ]
  },
  {
   "cell_type": "markdown",
   "metadata": {},
   "source": [
    "## Violin Plots for Quant vs. Quali"
   ]
  },
  {
   "cell_type": "code",
   "execution_count": null,
   "metadata": {},
   "outputs": [],
   "source": [
    "base_color = sb.color_palette()[0]\n",
    "sb.violinplot(data = df, x = 'cat_var', y = 'num_var', color = base_color,\n",
    "              inner = None)\n",
    "\n",
    "\n",
    "base_color = sb.color_palette()[0]\n",
    "sb.violinplot(data = df, x = 'num_var', y = 'cat_var', color = base_color,\n",
    "              inner = None)"
   ]
  },
  {
   "cell_type": "markdown",
   "metadata": {},
   "source": [
    "## Box Plots for Quant vs. Quali\n",
    "> Instead of box plots, we can make violin plots and add lines to indicate IQR"
   ]
  },
  {
   "cell_type": "code",
   "execution_count": null,
   "metadata": {},
   "outputs": [],
   "source": [
    "plt.figure(figsize = [10, 5])\n",
    "base_color = sb.color_palette()[0]\n",
    "\n",
    "# left plot: violin plot\n",
    "plt.subplot(1, 2, 1)\n",
    "ax1 = sb.violinplot(data = df, x = 'cat_var', y = 'num_var', color = base_color, inner='quartile')\n",
    "\n",
    "# right plot: box plot\n",
    "plt.subplot(1, 2, 2)\n",
    "sb.boxplot(data = df, x = 'cat_var', y = 'num_var', color = base_color)\n",
    "plt.ylim(ax1.get_ylim()) # set y-axis limits to be same as left plot"
   ]
  },
  {
   "cell_type": "markdown",
   "metadata": {},
   "source": [
    "## Clustered Bar Charts for quant vs. quali"
   ]
  },
  {
   "cell_type": "code",
   "execution_count": null,
   "metadata": {},
   "outputs": [],
   "source": [
    "plt.figure(figsize=[16,10])\n",
    "sns.countplot(x='VClass', data=fuel_econ, hue='fuelType')\n",
    "\n",
    "# heatmap for the number of datapoints visualization\n",
    "sns.heatmap(data=ct_counts, annot=True, fmt='.0f')"
   ]
  },
  {
   "cell_type": "markdown",
   "metadata": {},
   "source": [
    "## Faceted Plot\n",
    "> - Multiple copies of the same type of plot visualized on different subsets of the data.\n",
    "> - A violin plot can be thought of as a vertical histogram of different categories.\n",
    "> - Axis scales and limits **must be consistent** across each subplot, otherwise you may violate data integrity."
   ]
  },
  {
   "cell_type": "code",
   "execution_count": null,
   "metadata": {},
   "outputs": [],
   "source": [
    "bin_edges = np.arange(-3, df['num_var'].max()+1/3, 1/3)\n",
    "g = sns.FacetGrid(data = df, col = 'cat_var')\n",
    "g.map(plt.hist, \"num_var\", bins = bin_edges)\n",
    "\n",
    "################################################################################\n",
    "group_means = df.groupby(['many_cat_var']).mean()\n",
    "group_order = group_means.sort_values(['num_var'], ascending = False).index\n",
    "\n",
    "g = sb.FacetGrid(data = df, col = 'many_cat_var', col_wrap = 5, size = 2,\n",
    "                 col_order = group_order)\n",
    "g.map(plt.hist, 'num_var', bins = np.arange(5, 15+1, 1))\n",
    "g.set_titles('{col_name}')"
   ]
  },
  {
   "cell_type": "markdown",
   "metadata": {},
   "source": [
    "## Line Plots\n",
    "> - Lines instead of bars to emphasize relative change and to emphasize trend across x values\n",
    "> - Thus, line plots are not suitable for nominal variables for x-axis"
   ]
  },
  {
   "cell_type": "code",
   "execution_count": null,
   "metadata": {},
   "outputs": [],
   "source": [
    "# set bin edges, compute centers\n",
    "bin_size = 0.25\n",
    "xbin_edges = np.arange(0.5, df['num_var1'].max()+bin_size, bin_size)\n",
    "xbin_centers = (xbin_edges + bin_size/2)[:-1]\n",
    "\n",
    "# compute statistics in each bin\n",
    "data_xbins = pd.cut(df['num_var1'], xbin_edges, right = False, include_lowest = True)\n",
    "y_means = df['num_var2'].groupby(data_xbins).mean()\n",
    "y_sems = df['num_var2'].groupby(data_xbins).sem()\n",
    "\n",
    "# plot the summarized data\n",
    "plt.errorbar(x = xbin_centers, y = y_means, yerr = y_sems)\n",
    "plt.xlabel('num_var1')\n",
    "plt.ylabel('num_var2')"
   ]
  }
 ],
 "metadata": {
  "kernelspec": {
   "display_name": "Python 3",
   "language": "python",
   "name": "python3"
  },
  "language_info": {
   "codemirror_mode": {
    "name": "ipython",
    "version": 3
   },
   "file_extension": ".py",
   "mimetype": "text/x-python",
   "name": "python",
   "nbconvert_exporter": "python",
   "pygments_lexer": "ipython3",
   "version": "3.7.4"
  }
 },
 "nbformat": 4,
 "nbformat_minor": 4
}
