{
 "cells": [
  {
   "cell_type": "markdown",
   "metadata": {},
   "source": [
    "# Communicate Data Findings: Police Shootings Data Visualization"
   ]
  },
  {
   "cell_type": "markdown",
   "metadata": {},
   "source": [
    "## Project Details:\n",
    "\n",
    ">- **Dataset:** [Fatal Police Shootings in the U.S.](https://www.kaggle.com/kwullum/fatal-police-shootings-in-the-us)\n",
    ">- **Explore the data:** Programmatically and visually explore the dataset on Police Shootings on Kaggle.\n",
    ">- **Document the story:** Organized findings from the exploration to make a vivid story.\n",
    ">- **Communicate the findings:** Created a slide deck key insights convey a message to the audience."
   ]
  },
  {
   "cell_type": "markdown",
   "metadata": {},
   "source": [
    "## Project Findings:\n",
    "\n",
    "### Main findings from the exploration:\n",
    "> - The vast majority of the victims are males.\n",
    "> - Caucasians seem to have the highest number of deaths due to police shootings, while blacks are 3 times as likely as whites to become victims of police shootings.\n",
    "> - Most of the victims did not have signs of mental illness, however, there is still a considerable amount of victims who had signs of mental illness that were shot. \n",
    "> - Most of the victims attack the police before they were shot.\n",
    "> - Most of the victims were not fleeing before they got shot, I supposed this is because they were fighting the police.\n",
    "> - Very few body camera footages were recorded.\n",
    "> - The 3 most dangerous states are California, Texas and Florida\n",
    "> - The 3 most popular weapons of choice is gun, knife and unarmed.\n",
    "> - The median age for female victims who attacked the police is much older than other victims.\n",
    "> - The distribution of age of the victims overall is skewed, with most of the victims being in their 20s to late 30s.\n",
    "> - It appears that there is actually a decreasing trend for police shootings. \n",
    "> - For victims who were unarmed, there was a larger proportion with threat level other than attack across all races besides Asians, while very few body footages were recorded.\n",
    "> - The youngest victim was only 6 years old while the oldest victim was 91 years old.\n",
    "\n",
    "### Choice of results: \n",
    "I did not include all the findings in my report. Instead, I chose to create a compelling story that focuses on the racial bias and the victims who were unarmed. "
   ]
  },
  {
   "cell_type": "markdown",
   "metadata": {},
   "source": [
    "## A few own words:"
   ]
  },
  {
   "cell_type": "code",
   "execution_count": null,
   "metadata": {},
   "outputs": [],
   "source": []
  }
 ],
 "metadata": {
  "kernelspec": {
   "display_name": "Python 3",
   "language": "python",
   "name": "python3"
  },
  "language_info": {
   "codemirror_mode": {
    "name": "ipython",
    "version": 3
   },
   "file_extension": ".py",
   "mimetype": "text/x-python",
   "name": "python",
   "nbconvert_exporter": "python",
   "pygments_lexer": "ipython3",
   "version": "3.7.4"
  }
 },
 "nbformat": 4,
 "nbformat_minor": 4
}
