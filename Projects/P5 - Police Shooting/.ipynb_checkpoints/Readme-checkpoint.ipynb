{
 "cells": [
  {
   "cell_type": "markdown",
   "metadata": {},
   "source": [
    "# Communicate Data Findings: Police Shootings Data Visualization"
   ]
  },
  {
   "cell_type": "markdown",
   "metadata": {},
   "source": [
    "## Project Details:\n",
    "\n",
    ">- **Dataset:** [Fatal Police Shootings in the U.S.](https://www.kaggle.com/kwullum/fatal-police-shootings-in-the-us)\n",
    ">- **Explore the data:** Programmatically and visually explore the dataset on Police Shootings on Kaggle.\n",
    ">- **Document the story:** Organized findings from the exploration to make a vivid story.\n",
    ">- **Communicate the findings:** Created a slide deck key insights convey a message to the audience."
   ]
  },
  {
   "cell_type": "markdown",
   "metadata": {},
   "source": [
    "## Project Findings:\n",
    "\n",
    "### Key findings from the exploration:\n",
    "> - Though overall, Caucasians seem to have the highest number of deaths due to police shootings; In fact, blacks are **3 times** as likely as whites to become victims of police shootings in terms of proportions.\n",
    "> - Very few body camera footages were recorded.\n",
    "> - For victims who were unarmed, there was a larger proportion of them with threat level other than attack across all races besides Asians, while **very few body footages** were recorded.\n",
    "> - The youngest victim was only **6 years old** while the oldest victim was **91 years old**.\n",
    "> - The number of police shootings exhibit a decreasing pattern from 2015-2017.\n",
    "\n",
    "### Thoughts and reflections to my exploration:\n",
    "Above showcased the key findings from my exploration of the police shootings dataset. Some of these results are frightening, especially regarding the racial bias involved in shootings and the unarmed victims. What was also chilling is that the youngest victim was only 6 years old while the oldest victim was 91 years old. All of these findings raise a serious question about the possible misuse of violence and weapons: could there be any incorrect judgements on behalf of the officers that result in such tragedies?\n",
    "\n",
    "Though it may seem comforting that the number of police shootings exhibited a decreasing trend, this dataset is limited since it only includes data from 2015-2017, and that this is not sufficient to draw any valid conclusions. I hope this visualization rings a bell to the law enforcement officers and may the deads rest in peace. \n",
    "\n",
    "\n",
    "### Choice of results: \n",
    "I did not include all the findings in my report. Instead, I chose to create a compelling story that focuses on the racial bias and the victims who were unarmed. "
   ]
  },
  {
   "cell_type": "code",
   "execution_count": null,
   "metadata": {},
   "outputs": [],
   "source": []
  }
 ],
 "metadata": {
  "kernelspec": {
   "display_name": "Python 3",
   "language": "python",
   "name": "python3"
  },
  "language_info": {
   "codemirror_mode": {
    "name": "ipython",
    "version": 3
   },
   "file_extension": ".py",
   "mimetype": "text/x-python",
   "name": "python",
   "nbconvert_exporter": "python",
   "pygments_lexer": "ipython3",
   "version": "3.7.4"
  }
 },
 "nbformat": 4,
 "nbformat_minor": 4
}
