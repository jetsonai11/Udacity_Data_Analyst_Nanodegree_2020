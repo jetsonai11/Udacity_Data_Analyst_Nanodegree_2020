{
 "cells": [
  {
   "cell_type": "markdown",
   "metadata": {},
   "source": [
    "# Project Report: Explore Weather Trend\n",
    "\n",
    "## Overview:\n",
    "In this project, I analyzed two datasets which record the yearly average temperatures of the world and that of Guangzhou, a metropolis in southern China. I then sought to discover similatiries and differencies between the two datasets."
   ]
  },
  {
   "cell_type": "markdown",
   "metadata": {},
   "source": [
    "## Outline of Steps:\n",
    "\n",
    "#### The tools I used:\n",
    "- Firstly, I extracted the data from the database provided by Udacity using SQL. I wrote a query to extract the global temperature data and the temperature data of Guangzhou:\n",
    "    ![](images/city_query.png)\n",
    "    ![](images/world_query.png)\n",
    "- I then used Python to analyze the data with the Pandas, Matplotlib and Seaborn packages on Jupyter Notebook.\n",
    "\n",
    "#### How I calculate the moving average:\n",
    "I did this by using the built-in function called \"rolling\" in pandas. It provides rolling window calculations by passing in a desired windows size. For my analysis, I calculated 3 trends on each dataset using a window size of 15, 25, 35. The documentation for the rolling function can be found here: https://pandas.pydata.org/pandas-docs/stable/reference/api/pandas.DataFrame.rolling.html\n",
    "\n",
    "#### Key considerations for visualizations:\n",
    "I chose the display line graph because it is able to show a trend and clearly communicate a change in temperature between years. I wanted to display not just one trend but multiple trends(I selected 3) of the moving average graphs, since the larger the windows size, the smoother the curve, so that visualization will be clearer. I also imported the seaborn package to make the graph more aesthetically pleasing."
   ]
  },
  {
   "cell_type": "markdown",
   "metadata": {},
   "source": [
    "## Visualization"
   ]
  },
  {
   "cell_type": "markdown",
   "metadata": {},
   "source": [
    "![title](images/world.png)"
   ]
  },
  {
   "cell_type": "markdown",
   "metadata": {},
   "source": [
    "![](images/city.png)"
   ]
  },
  {
   "cell_type": "markdown",
   "metadata": {},
   "source": [
    "## Observations:\n",
    "\n",
    "1. Climate change has been causing a tremendous rise in temperature, both at a global level and at a city level. This rising trend does not seem to plateau any time soon, and will continuously exhibit an upward trend until humans take climate change seriously.\n",
    "\n",
    "2. For both graphs, we can see that setting a large value for the window size when computing the moving averages corresponds to a flatter curve, since it is averaging over a larger range of values.\n",
    "3. The temperature in Guangzhou is, on average, cooler than the world's temperature. This difference has been consistent over time.\n",
    "4. We are seeing a sudden spike in the average temperature in Guangzhou around the 1950s, which is consistent with history. During this period of time, China had just ended the Civil War, and was able to begin concentrating on industralization. As a major industrial city in China, the temperature was excepted to rise as the graph displays since industralization corresponds to a greater emission of greenhouse gases."
   ]
  },
  {
   "cell_type": "code",
   "execution_count": null,
   "metadata": {},
   "outputs": [],
   "source": []
  }
 ],
 "metadata": {
  "kernelspec": {
   "display_name": "Python 3",
   "language": "python",
   "name": "python3"
  },
  "language_info": {
   "codemirror_mode": {
    "name": "ipython",
    "version": 3
   },
   "file_extension": ".py",
   "mimetype": "text/x-python",
   "name": "python",
   "nbconvert_exporter": "python",
   "pygments_lexer": "ipython3",
   "version": "3.7.4"
  }
 },
 "nbformat": 4,
 "nbformat_minor": 4
}
